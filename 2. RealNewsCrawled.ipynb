{
 "cells": [
  {
   "cell_type": "code",
   "execution_count": 1,
   "metadata": {},
   "outputs": [],
   "source": [
    "import requests\n",
    "from bs4 import BeautifulSoup\n",
    "import numpy as np\n",
    "import pandas as pd\n",
    "import re\n",
    "import time"
   ]
  },
  {
   "cell_type": "code",
   "execution_count": 2,
   "metadata": {},
   "outputs": [],
   "source": [
    "# url definition\n",
    "url = \"https://www.dailymail.co.uk\""
   ]
  },
  {
   "cell_type": "code",
   "execution_count": 3,
   "metadata": {},
   "outputs": [
    {
     "data": {
      "text/plain": [
       "101"
      ]
     },
     "execution_count": 3,
     "metadata": {},
     "output_type": "execute_result"
    }
   ],
   "source": [
    "# Request\n",
    "r1 = requests.get(url)\n",
    "r1.status_code\n",
    "\n",
    "# We'll save in coverpage the cover page content\n",
    "coverpage = r1.content\n",
    "\n",
    "# Soup creation\n",
    "soup1 = BeautifulSoup(coverpage, 'html5lib')\n",
    "\n",
    "# News identification\n",
    "coverpage_news = soup1.find_all('h2', class_='linkro-darkred')\n",
    "len(coverpage_news)"
   ]
  },
  {
   "cell_type": "code",
   "execution_count": 4,
   "metadata": {},
   "outputs": [
    {
     "data": {
      "text/plain": [
       "<h2 class=\"linkro-darkred\">\n",
       "    <a href=\"/news/article-9468693/Fauci-warns-women-received-Johnson-Johnson-vaccine-alert-reports-blood-clots.html\" itemprop=\"url\">Dr Fauci warns women who received the Johnson &amp; Johnson vaccine in last 13 days to 'be alert to symptoms' as scientists investigate whether birth control pills played part in blood clots</a>\n",
       "  </h2>"
      ]
     },
     "execution_count": 4,
     "metadata": {},
     "output_type": "execute_result"
    }
   ],
   "source": [
    "coverpage_news[4]\n"
   ]
  },
  {
   "cell_type": "code",
   "execution_count": 33,
   "metadata": {},
   "outputs": [],
   "source": [
    "number_of_articles = 100\n"
   ]
  },
  {
   "cell_type": "code",
   "execution_count": 21,
   "metadata": {},
   "outputs": [],
   "source": [
    "\n",
    "# Empty lists for content, links and titles\n",
    "news_contents = []\n",
    "list_links = []\n",
    "list_titles = []\n",
    "\n",
    "for n in np.arange(0, number_of_articles):\n",
    "        \n",
    "    # Getting the link of the article\n",
    "    link = url + coverpage_news[n].find('a')['href']\n",
    "    list_links.append(link)\n",
    "    \n",
    "    # Getting the title\n",
    "    title = coverpage_news[n].find('a').get_text()\n",
    "    list_titles.append(title)\n",
    "    \n",
    "    # Reading the content (it is divided in paragraphs)\n",
    "    article = requests.get(link)\n",
    "    article_content = article.content\n",
    "    soup_article = BeautifulSoup(article_content, 'html5lib')\n",
    "    body = soup_article.find_all('p', class_='mol-para-with-font')\n",
    "    \n",
    "    # Unifying the paragraphs\n",
    "    list_paragraphs = []\n",
    "    for p in np.arange(0, len(body)):\n",
    "        paragraph = body[p].get_text()\n",
    "        list_paragraphs.append(paragraph)\n",
    "        final_article = \" \".join(list_paragraphs)\n",
    "        \n",
    "    # Removing special characters\n",
    "    final_article = re.sub(\"\\\\xa0\", \"\", final_article)\n",
    "    news_contents.append(final_article)\n",
    "        "
   ]
  },
  {
   "cell_type": "code",
   "execution_count": 34,
   "metadata": {},
   "outputs": [],
   "source": [
    "news_topic =[]\n",
    "\n",
    "for n in np.arange(0, number_of_articles):\n",
    "\n",
    "    topic= link.split(\"https://www.dailymail.co.uk/\")\n",
    "    news_topic.append(topic)"
   ]
  },
  {
   "cell_type": "code",
   "execution_count": 35,
   "metadata": {},
   "outputs": [
    {
     "data": {
      "text/plain": [
       "['',\n",
       " 'femail/food/article-9468747/Ayeh-Far-shares-simple-recipe-perfect-spaghetti-carbonara.html']"
      ]
     },
     "execution_count": 35,
     "metadata": {},
     "output_type": "execute_result"
    }
   ],
   "source": [
    "topic"
   ]
  },
  {
   "cell_type": "code",
   "execution_count": 25,
   "metadata": {},
   "outputs": [],
   "source": [
    "# df_show_info\n",
    "df_show_info = pd.DataFrame(\n",
    "    {'Article Title': list_titles,\n",
    "     'Article Link': list_links, \"Article Text\":news_contents})"
   ]
  },
  {
   "cell_type": "code",
   "execution_count": 26,
   "metadata": {},
   "outputs": [
    {
     "data": {
      "text/html": [
       "<div>\n",
       "<style scoped>\n",
       "    .dataframe tbody tr th:only-of-type {\n",
       "        vertical-align: middle;\n",
       "    }\n",
       "\n",
       "    .dataframe tbody tr th {\n",
       "        vertical-align: top;\n",
       "    }\n",
       "\n",
       "    .dataframe thead th {\n",
       "        text-align: right;\n",
       "    }\n",
       "</style>\n",
       "<table border=\"1\" class=\"dataframe\">\n",
       "  <thead>\n",
       "    <tr style=\"text-align: right;\">\n",
       "      <th></th>\n",
       "      <th>Article Title</th>\n",
       "      <th>Article Link</th>\n",
       "      <th>Article Text</th>\n",
       "    </tr>\n",
       "  </thead>\n",
       "  <tbody>\n",
       "    <tr>\n",
       "      <th>0</th>\n",
       "      <td>Bernie Madoff dies in federal prison aged 82: ...</td>\n",
       "      <td>https://www.dailymail.co.uk/news/article-94704...</td>\n",
       "      <td>Bernie Madoff, the disgraced financier who ran...</td>\n",
       "    </tr>\n",
       "    <tr>\n",
       "      <th>1</th>\n",
       "      <td>'Welcome to Chilis' TikTok star Adam Perkins p...</td>\n",
       "      <td>https://www.dailymail.co.uk/tvshowbiz/article-...</td>\n",
       "      <td>TikTok star Adam Perkins has passed away aged ...</td>\n",
       "    </tr>\n",
       "    <tr>\n",
       "      <th>2</th>\n",
       "      <td>Coinbase is set to become first major cryptocu...</td>\n",
       "      <td>https://www.dailymail.co.uk/news/article-94700...</td>\n",
       "      <td>Wall Street will be focused on Coinbase on Wed...</td>\n",
       "    </tr>\n",
       "    <tr>\n",
       "      <th>3</th>\n",
       "      <td>CDC chief admits they have NO proof J&amp;J vaccin...</td>\n",
       "      <td>https://www.dailymail.co.uk/news/article-94701...</td>\n",
       "      <td>The CDC's Deputy Director has admitted they ha...</td>\n",
       "    </tr>\n",
       "    <tr>\n",
       "      <th>4</th>\n",
       "      <td>Dr Fauci warns women who received the Johnson ...</td>\n",
       "      <td>https://www.dailymail.co.uk/news/article-94686...</td>\n",
       "      <td>Dr Anthony Fauci has warned women who have had...</td>\n",
       "    </tr>\n",
       "    <tr>\n",
       "      <th>...</th>\n",
       "      <td>...</td>\n",
       "      <td>...</td>\n",
       "      <td>...</td>\n",
       "    </tr>\n",
       "    <tr>\n",
       "      <th>95</th>\n",
       "      <td>Director of National Intelligence says Russia,...</td>\n",
       "      <td>https://www.dailymail.co.uk/news/article-94667...</td>\n",
       "      <td>A new annual threat assessment the Director of...</td>\n",
       "    </tr>\n",
       "    <tr>\n",
       "      <th>96</th>\n",
       "      <td>'He is growing!' Diane von Furstenberg posts s...</td>\n",
       "      <td>https://www.dailymail.co.uk/femail/article-946...</td>\n",
       "      <td>Designer Diane von Furstenberg is sharing swee...</td>\n",
       "    </tr>\n",
       "    <tr>\n",
       "      <th>97</th>\n",
       "      <td>From college dropout to stock market wizard: W...</td>\n",
       "      <td>https://www.dailymail.co.uk/femail/article-946...</td>\n",
       "      <td>A young woman who had to drop out of college t...</td>\n",
       "    </tr>\n",
       "    <tr>\n",
       "      <th>98</th>\n",
       "      <td>Oldest ever evidence of HONEY hunting is disco...</td>\n",
       "      <td>https://www.dailymail.co.uk/sciencetech/articl...</td>\n",
       "      <td>People living in West Africa 3,500 years ago w...</td>\n",
       "    </tr>\n",
       "    <tr>\n",
       "      <th>99</th>\n",
       "      <td>Have you been cooking spaghetti carbonara wron...</td>\n",
       "      <td>https://www.dailymail.co.uk/femail/food/articl...</td>\n",
       "      <td>A home cook has revealed her simple four-ingre...</td>\n",
       "    </tr>\n",
       "  </tbody>\n",
       "</table>\n",
       "<p>100 rows × 3 columns</p>\n",
       "</div>"
      ],
      "text/plain": [
       "                                        Article Title  \\\n",
       "0   Bernie Madoff dies in federal prison aged 82: ...   \n",
       "1   'Welcome to Chilis' TikTok star Adam Perkins p...   \n",
       "2   Coinbase is set to become first major cryptocu...   \n",
       "3   CDC chief admits they have NO proof J&J vaccin...   \n",
       "4   Dr Fauci warns women who received the Johnson ...   \n",
       "..                                                ...   \n",
       "95  Director of National Intelligence says Russia,...   \n",
       "96  'He is growing!' Diane von Furstenberg posts s...   \n",
       "97  From college dropout to stock market wizard: W...   \n",
       "98  Oldest ever evidence of HONEY hunting is disco...   \n",
       "99  Have you been cooking spaghetti carbonara wron...   \n",
       "\n",
       "                                         Article Link  \\\n",
       "0   https://www.dailymail.co.uk/news/article-94704...   \n",
       "1   https://www.dailymail.co.uk/tvshowbiz/article-...   \n",
       "2   https://www.dailymail.co.uk/news/article-94700...   \n",
       "3   https://www.dailymail.co.uk/news/article-94701...   \n",
       "4   https://www.dailymail.co.uk/news/article-94686...   \n",
       "..                                                ...   \n",
       "95  https://www.dailymail.co.uk/news/article-94667...   \n",
       "96  https://www.dailymail.co.uk/femail/article-946...   \n",
       "97  https://www.dailymail.co.uk/femail/article-946...   \n",
       "98  https://www.dailymail.co.uk/sciencetech/articl...   \n",
       "99  https://www.dailymail.co.uk/femail/food/articl...   \n",
       "\n",
       "                                         Article Text  \n",
       "0   Bernie Madoff, the disgraced financier who ran...  \n",
       "1   TikTok star Adam Perkins has passed away aged ...  \n",
       "2   Wall Street will be focused on Coinbase on Wed...  \n",
       "3   The CDC's Deputy Director has admitted they ha...  \n",
       "4   Dr Anthony Fauci has warned women who have had...  \n",
       "..                                                ...  \n",
       "95  A new annual threat assessment the Director of...  \n",
       "96  Designer Diane von Furstenberg is sharing swee...  \n",
       "97  A young woman who had to drop out of college t...  \n",
       "98  People living in West Africa 3,500 years ago w...  \n",
       "99  A home cook has revealed her simple four-ingre...  \n",
       "\n",
       "[100 rows x 3 columns]"
      ]
     },
     "execution_count": 26,
     "metadata": {},
     "output_type": "execute_result"
    }
   ],
   "source": [
    "df_show_info\n"
   ]
  },
  {
   "cell_type": "code",
   "execution_count": 36,
   "metadata": {},
   "outputs": [
    {
     "data": {
      "text/plain": [
       "<bound method NDFrame.to_csv of                                         Article Title  \\\n",
       "0   Bernie Madoff dies in federal prison aged 82: ...   \n",
       "1   'Welcome to Chilis' TikTok star Adam Perkins p...   \n",
       "2   Coinbase is set to become first major cryptocu...   \n",
       "3   CDC chief admits they have NO proof J&J vaccin...   \n",
       "4   Dr Fauci warns women who received the Johnson ...   \n",
       "..                                                ...   \n",
       "95  Director of National Intelligence says Russia,...   \n",
       "96  'He is growing!' Diane von Furstenberg posts s...   \n",
       "97  From college dropout to stock market wizard: W...   \n",
       "98  Oldest ever evidence of HONEY hunting is disco...   \n",
       "99  Have you been cooking spaghetti carbonara wron...   \n",
       "\n",
       "                                         Article Link  \\\n",
       "0   https://www.dailymail.co.uk/news/article-94704...   \n",
       "1   https://www.dailymail.co.uk/tvshowbiz/article-...   \n",
       "2   https://www.dailymail.co.uk/news/article-94700...   \n",
       "3   https://www.dailymail.co.uk/news/article-94701...   \n",
       "4   https://www.dailymail.co.uk/news/article-94686...   \n",
       "..                                                ...   \n",
       "95  https://www.dailymail.co.uk/news/article-94667...   \n",
       "96  https://www.dailymail.co.uk/femail/article-946...   \n",
       "97  https://www.dailymail.co.uk/femail/article-946...   \n",
       "98  https://www.dailymail.co.uk/sciencetech/articl...   \n",
       "99  https://www.dailymail.co.uk/femail/food/articl...   \n",
       "\n",
       "                                         Article Text  \n",
       "0   Bernie Madoff, the disgraced financier who ran...  \n",
       "1   TikTok star Adam Perkins has passed away aged ...  \n",
       "2   Wall Street will be focused on Coinbase on Wed...  \n",
       "3   The CDC's Deputy Director has admitted they ha...  \n",
       "4   Dr Anthony Fauci has warned women who have had...  \n",
       "..                                                ...  \n",
       "95  A new annual threat assessment the Director of...  \n",
       "96  Designer Diane von Furstenberg is sharing swee...  \n",
       "97  A young woman who had to drop out of college t...  \n",
       "98  People living in West Africa 3,500 years ago w...  \n",
       "99  A home cook has revealed her simple four-ingre...  \n",
       "\n",
       "[100 rows x 3 columns]>"
      ]
     },
     "execution_count": 36,
     "metadata": {},
     "output_type": "execute_result"
    }
   ],
   "source": [
    "df_show_info.to_csv"
   ]
  },
  {
   "cell_type": "code",
   "execution_count": 38,
   "metadata": {},
   "outputs": [],
   "source": [
    "df_show_info.to_csv(r'/Users/duygutorun/Desktop/Text Analytics/Group Project/Crawl Data/NEWS.csv', index = False)\n"
   ]
  },
  {
   "cell_type": "code",
   "execution_count": null,
   "metadata": {},
   "outputs": [],
   "source": []
  }
 ],
 "metadata": {
  "kernelspec": {
   "display_name": "Python 3",
   "language": "python",
   "name": "python3"
  },
  "language_info": {
   "codemirror_mode": {
    "name": "ipython",
    "version": 3
   },
   "file_extension": ".py",
   "mimetype": "text/x-python",
   "name": "python",
   "nbconvert_exporter": "python",
   "pygments_lexer": "ipython3",
   "version": "3.8.3"
  }
 },
 "nbformat": 4,
 "nbformat_minor": 4
}
